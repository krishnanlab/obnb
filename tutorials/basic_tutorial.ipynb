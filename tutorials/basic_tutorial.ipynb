{
  "nbformat": 4,
  "nbformat_minor": 0,
  "metadata": {
    "colab": {
      "provenance": [],
      "toc_visible": true,
      "authorship_tag": "ABX9TyM/72QVmPpoW9JPrZYT0/P3",
      "include_colab_link": true
    },
    "kernelspec": {
      "name": "python3",
      "display_name": "Python 3"
    },
    "language_info": {
      "name": "python"
    }
  },
  "cells": [
    {
      "cell_type": "markdown",
      "metadata": {
        "id": "view-in-github",
        "colab_type": "text"
      },
      "source": [
        "<a href=\"https://colab.research.google.com/github/krishnanlab/obnb/blob/main/tutorials/basic_tutorial.ipynb\" target=\"_parent\"><img src=\"https://colab.research.google.com/assets/colab-badge.svg\" alt=\"Open In Colab\"/></a>"
      ]
    },
    {
      "cell_type": "markdown",
      "source": [
        "# Basic Tutorial for the Open Biomedical Network Benchmark package"
      ],
      "metadata": {
        "id": "Ba_AaNS7Stg8"
      }
    },
    {
      "cell_type": "markdown",
      "source": [
        "## 1. Installation\n",
        "\n",
        "Installation can be easily done via `pip`.\n",
        "\n",
        "via PyPI (released or pre-release versions)\n",
        "```bash\n",
        "pip install obnb\n",
        "```\n",
        "\n",
        "or via GitHub (latest dev version)\n",
        "```bash\n",
        "pip install git+https://github.com/krishnanlab/obnb\n",
        "```"
      ],
      "metadata": {
        "id": "pv7SYyrlTKl4"
      }
    },
    {
      "cell_type": "code",
      "execution_count": null,
      "metadata": {
        "id": "fypP0bMZ-Wsu"
      },
      "outputs": [],
      "source": [
        "# Install latest dev version of OBNB\n",
        "!pip install -q git+https://github.com/krishnanlab/obnb"
      ]
    },
    {
      "cell_type": "markdown",
      "source": [
        "Check if the package is installed successfully"
      ],
      "metadata": {
        "id": "WefaXPkqUS6e"
      }
    },
    {
      "cell_type": "code",
      "source": [
        "import obnb\n",
        "print(f\"Installed obnb {obnb.__version__}\")"
      ],
      "metadata": {
        "id": "XJbywsXU-6zH"
      },
      "execution_count": null,
      "outputs": []
    },
    {
      "cell_type": "markdown",
      "source": [
        "## 2. Data downloading and processing"
      ],
      "metadata": {
        "id": "oZsfNaHqVaQu"
      }
    },
    {
      "cell_type": "markdown",
      "source": [
        "First, load the `obnb.data` module that contains \"recipies\" for processing\n",
        "differentt selections of biological networks and gene annotation data.\n",
        "\n",
        "We also need to specify (1) the path to which the data will be saved, and more\n",
        "importantly, (2) the **version** of the data we want to retrieve. The version\n",
        "option allows for flexible data retrieval (either retrieve data from source, or\n",
        "retrieve from processed data archive) and also enable reproduction of the\n",
        "downstream analysis."
      ],
      "metadata": {
        "id": "bDx-hDiTVsM4"
      }
    },
    {
      "cell_type": "code",
      "source": [
        "import obnb.data\n",
        "import yaml\n",
        "\n",
        "# Where do we want to save the data and related files to\n",
        "root = \"datasets\"\n",
        "\n",
        "# What version of the pre-processed data to download\n",
        "data_version = \"obnbdata-0.1.0\"\n",
        "# data_version = \"latest\"  # download data from source and process from scratch\n",
        "# data_version = \"current\"  # use the latest archived data version"
      ],
      "metadata": {
        "id": "s1apiAau_GDY"
      },
      "execution_count": null,
      "outputs": []
    },
    {
      "cell_type": "markdown",
      "source": [
        "### 2.1. Biological networks"
      ],
      "metadata": {
        "id": "8YF_zoqBWOzV"
      }
    },
    {
      "cell_type": "markdown",
      "source": [
        "Let's start with an example of obtaining the `BioPlex` network, which is a\n",
        "protein-protein interaction (PPI) network that is constructed via AP-MS on\n",
        "human cell-lines ([HEK293T](https://www.synthego.com/hek293) and\n",
        "[HCT116](https://imanislife.com/collections/cell-lines/hct116-cells/)).\n",
        "Checkout other avaialble options for processed biomedical networks on the OBNB\n",
        "benchmark\n",
        "[README](https://github.com/krishnanlab/obnbench#data-stats-obnbdata-010-) page.\n",
        "\n",
        "[1] Huttlin, Edward L., et al. \"The BioPlex network: a systematic exploration of the human interactome.\" Cell 162.2 (2015): 425-440.\n",
        "\n",
        "[2] Huttlin, Edward L., et al. \"Dual proteome-scale networks reveal cell-specific remodeling of the human interactome.\" Cell 184.11 (2021): 3022-3040."
      ],
      "metadata": {
        "id": "7idT6WBxXR29"
      }
    },
    {
      "cell_type": "code",
      "source": [
        "# Download network from archive\n",
        "g = obnb.data.BioPlex(root, version=data_version)"
      ],
      "metadata": {
        "id": "-Wsdv0VmWVfr"
      },
      "execution_count": null,
      "outputs": []
    },
    {
      "cell_type": "code",
      "source": [
        "# Once downloaded, it can be used in future acess without redownloading\n",
        "g = obnb.data.BioPlex(root, version=data_version)"
      ],
      "metadata": {
        "id": "ovT8pvzbWVdR"
      },
      "execution_count": null,
      "outputs": []
    },
    {
      "cell_type": "code",
      "source": [
        "# You can also force redownloading the data by specifying redownload=True\n",
        "g = obnb.data.BioPlex(root, version=data_version, redownload=True)"
      ],
      "metadata": {
        "id": "KDFC5JnyWVOb"
      },
      "execution_count": null,
      "outputs": []
    },
    {
      "cell_type": "markdown",
      "source": [
        "You can also checkout more information about the processing done for this\n",
        "network by looking into the config."
      ],
      "metadata": {
        "id": "z8qGrmgTbRzW"
      }
    },
    {
      "cell_type": "code",
      "source": [
        "print(yaml.dump(g.to_config()))"
      ],
      "metadata": {
        "id": "4B7NKw55bQ-k"
      },
      "execution_count": null,
      "outputs": []
    },
    {
      "cell_type": "markdown",
      "source": [
        "The gene IDs in the network can be accessed via the `node_ids` attribute, which\n",
        "are [Entrez](https://www.ncbi.nlm.nih.gov/pmc/articles/PMC1761442/) gene ID by\n",
        "default."
      ],
      "metadata": {
        "id": "5G5tGtPSb_Ob"
      }
    },
    {
      "cell_type": "code",
      "source": [
        "print(f\"The first gene in the network is {g.node_ids[0]!r}\")\n",
        "print(f\"The second gene in the network is {g.node_ids[1]!r}\")\n",
        "print(f\"The third gene in the network is {g.node_ids[2]!r}\")"
      ],
      "metadata": {
        "id": "gQrZ6besb5E_"
      },
      "execution_count": null,
      "outputs": []
    },
    {
      "cell_type": "markdown",
      "source": [
        "The graph `g` object is an instance of the `obnb.graph.SparseGraph` object.\n",
        "But it could be easily converted into a dense adjacency matrix via `to_adjmat`"
      ],
      "metadata": {
        "id": "yRbbhwpTbgwz"
      }
    },
    {
      "cell_type": "code",
      "source": [
        "adj = g.to_adjmat()\n",
        "adj"
      ],
      "metadata": {
        "id": "BjX_K65nbfvV"
      },
      "execution_count": null,
      "outputs": []
    },
    {
      "cell_type": "markdown",
      "source": [
        "### 2.2. Gene annotations"
      ],
      "metadata": {
        "id": "IUeQvMf4WWM7"
      }
    },
    {
      "cell_type": "markdown",
      "source": [
        "Setting up gene annotation tasks is a tedious process that include\n",
        "\n",
        "1. Obtain annotations for gene-term associations and convert gene identifier to\n",
        "   the desired option.\n",
        "1. Obtain and construct ontology graph that represents the relationships among\n",
        "   different terms.\n",
        "1. Propagate the gene-term annotations upward the ontology graph.\n",
        "1. Extract non-redundant representative gene sets (terms) from the propagated\n",
        "   annotations.\n",
        "\n",
        "\n",
        "Here, we use the [DisGeNET](https://www.disgenet.org/) disease gene annotations\n",
        "with [MONDO](https://mondo.monarchinitiative.org/) disease ontology as an\n",
        "example to set up the DisGeNET gene set collection.\n",
        "\n",
        "[3] Piñero, Janet, et al. \"DisGeNET: a comprehensive platform integrating information on human disease-associated genes and variants.\" Nucleic acids research (2016): gkw943.\n",
        "\n",
        "[4] Vasilevsky, Nicole A., et al. \"Mondo: Unifying diseases for the world, by the world.\" medRxiv (2022): 2022-04."
      ],
      "metadata": {
        "id": "RXFunr8jfgA-"
      }
    },
    {
      "cell_type": "code",
      "source": [
        "# Download annotations and ontology from archive\n",
        "gsc = obnb.data.DisGeNET(root, version=data_version)"
      ],
      "metadata": {
        "id": "HGtLoOl8WNfh"
      },
      "execution_count": null,
      "outputs": []
    },
    {
      "cell_type": "code",
      "source": [
        "# Again, once downloaded and processed, it can be used in the future\n",
        "gsc = obnb.data.DisGeNET(root, version=data_version)"
      ],
      "metadata": {
        "id": "PN2yNtAgjGSm"
      },
      "execution_count": null,
      "outputs": []
    },
    {
      "cell_type": "markdown",
      "source": [
        "Processing config can be inspected in a similar fashion as before"
      ],
      "metadata": {
        "id": "aHvUg8NOjU8N"
      }
    },
    {
      "cell_type": "code",
      "source": [
        "print(yaml.dump(gsc.to_config()))"
      ],
      "metadata": {
        "id": "UEZQ-LJ5_vJO"
      },
      "execution_count": null,
      "outputs": []
    },
    {
      "cell_type": "markdown",
      "source": [
        "The `gsc` object is an instance of the `obnb.label.LabelsetCollection` object.\n",
        "You can also convert it to a\n",
        "[GMT](https://software.broadinstitute.org/cancer/software/gsea/wiki/index.php/Data_formats#GMT:_Gene_Matrix_Transposed_file_format_.28.2A.gmt.29)-like\n",
        "dataframe by calling the `to_df` method.\n",
        "\n",
        "The resulting dataframe is a table where the first three columns correspond to\n",
        "the term ID, term info, and the number of genes associated with this term after\n",
        "the processing. The rest of the columns are gene IDs that are associated with a\n",
        "particular term, padded with `None`s."
      ],
      "metadata": {
        "id": "jHAIQT6ujeKX"
      }
    },
    {
      "cell_type": "code",
      "source": [
        "gsc.to_df()"
      ],
      "metadata": {
        "id": "bxYbfhya_GAj"
      },
      "execution_count": null,
      "outputs": []
    },
    {
      "cell_type": "markdown",
      "source": [
        "## 3. Constructing dataset"
      ],
      "metadata": {
        "id": "t7aARNyJlEBk"
      }
    },
    {
      "cell_type": "markdown",
      "source": [
        "### 3.1 The hard way: consolidate the network with gene set collection and combine into a dataset\n",
        "\n",
        "- Pros: Flexible filtering and dataset construction to help investigate specific\n",
        "  biological questions.\n",
        "- Cons: Many steps involved to filter and pre-process."
      ],
      "metadata": {
        "id": "nVOZQA6OlcLu"
      }
    },
    {
      "cell_type": "code",
      "source": [
        "from obnb.label import filters\n",
        "from obnb.label.split import RatioPartition\n",
        "from obnb.util.converter import GenePropertyConverter\n",
        "\n",
        "\n",
        "# Load PubMed count gene property converter\n",
        "pubmedcnt_converter = GenePropertyConverter(root, name=\"PubMedCount\")\n",
        "\n",
        "# 6/2/2/ study-bias holdout split for genes\n",
        "splitter = RatioPartition(0.6, 0.2, 0.2, ascending=False,\n",
        "                          property_converter=pubmedcnt_converter)\n",
        "\n",
        "# Apply filters to the gene set collection\n",
        "gsc_filtered = gsc.apply(\n",
        "    filters.Compose(\n",
        "        # Only use genes that are present in the network\n",
        "        filters.EntityExistenceFilter(list(g.node_ids), log_level=\"INFO\",),\n",
        "        # Remove any labelsets with less than 50 network genes\n",
        "        filters.LabelsetRangeFilterSize(min_val=50, log_level=\"INFO\",),\n",
        "        # Make sure each split has at least 10 positive examples\n",
        "        filters.LabelsetRangeFilterSplit(min_val=10, splitter=splitter, log_level=\"INFO\",),\n",
        "        log_level=\"INFO\",\n",
        "    ),\n",
        ")"
      ],
      "metadata": {
        "id": "NOVBeVkPlOIX"
      },
      "execution_count": null,
      "outputs": []
    },
    {
      "cell_type": "code",
      "source": [
        "# Combine into a OBNB dataset object\n",
        "dataset = obnb.Dataset(\n",
        "    graph=g,\n",
        "    feature=g.to_dense_graph().to_feature(),\n",
        "    label=gsc_filtered,\n",
        "    splitter=splitter,\n",
        ")"
      ],
      "metadata": {
        "id": "SU4bL7WGlOFG"
      },
      "execution_count": null,
      "outputs": []
    },
    {
      "cell_type": "code",
      "source": [
        "dataset.graph"
      ],
      "metadata": {
        "id": "HYDWpfnNlOBb"
      },
      "execution_count": null,
      "outputs": []
    },
    {
      "cell_type": "code",
      "source": [
        "dataset.label"
      ],
      "metadata": {
        "id": "UhKG5PFalN6_"
      },
      "execution_count": null,
      "outputs": []
    },
    {
      "cell_type": "markdown",
      "source": [
        "### 3.2. The easy way: OBNB default dataset construction\n",
        "\n",
        "- Pros: Easy to construct the dataset as it masked out a lot of common steps.\n",
        "- Cons: Less flexible and hard to construct specialized datasets."
      ],
      "metadata": {
        "id": "sk3HPD3JlXJe"
      }
    },
    {
      "cell_type": "code",
      "source": [
        "dataset = obnb.OpenBiomedNetBench(\n",
        "    root=root,\n",
        "    graph_name=\"BioPlex\",\n",
        "    label_name=\"DisGeNET\",\n",
        "    version=data_version,\n",
        "    graph_as_feature=True,\n",
        "    use_dense_graph=True,\n",
        ")"
      ],
      "metadata": {
        "id": "F6Di1ZJ--6md"
      },
      "execution_count": null,
      "outputs": []
    },
    {
      "cell_type": "code",
      "source": [
        "# Similar to all previously shown cases, dataset have builtin cache utility\n",
        "# to help spead up dataloading after the first instantiation.\n",
        "dataset = obnb.OpenBiomedNetBench(\n",
        "    root=root,\n",
        "    graph_name=\"BioPlex\",\n",
        "    label_name=\"DisGeNET\",\n",
        "    version=data_version,\n",
        "    graph_as_feature=True,\n",
        "    use_dense_graph=True,\n",
        ")"
      ],
      "metadata": {
        "id": "_I775-DC-6jL"
      },
      "execution_count": null,
      "outputs": []
    },
    {
      "cell_type": "markdown",
      "source": [
        "## 4. Simple model evaluation using the dataset and the builtin trianer"
      ],
      "metadata": {
        "id": "DgV8pJf9otkk"
      }
    },
    {
      "cell_type": "markdown",
      "source": [
        "### 4.1. Label propagation"
      ],
      "metadata": {
        "id": "3RDHlp18pP0B"
      }
    },
    {
      "cell_type": "code",
      "source": [
        "import pandas as pd\n",
        "\n",
        "from obnb.model_trainer import LabelPropagationTrainer\n",
        "from obnb.model.label_propagation import OneHopPropagation"
      ],
      "metadata": {
        "id": "QlCizk9x-6gD"
      },
      "execution_count": null,
      "outputs": []
    },
    {
      "cell_type": "code",
      "source": [
        "lp_mdl = OneHopPropagation()\n",
        "lp_trainer = LabelPropagationTrainer()"
      ],
      "metadata": {
        "id": "JyrNWeZ4pDA5"
      },
      "execution_count": null,
      "outputs": []
    },
    {
      "cell_type": "code",
      "source": [
        "lp_results = lp_trainer.fit_and_eval(lp_mdl, dataset)"
      ],
      "metadata": {
        "id": "5sWjyXv1pFuP"
      },
      "execution_count": null,
      "outputs": []
    },
    {
      "cell_type": "code",
      "source": [
        "lp_df = pd.DataFrame(lp_results, index=dataset.label.label_ids)\n",
        "lp_df"
      ],
      "metadata": {
        "id": "NBtgy76xIoc_"
      },
      "execution_count": null,
      "outputs": []
    },
    {
      "cell_type": "code",
      "source": [
        "lp_df.describe()"
      ],
      "metadata": {
        "id": "np234taeKVjQ"
      },
      "execution_count": null,
      "outputs": []
    },
    {
      "cell_type": "markdown",
      "source": [
        "### 4.2. Supervised learning"
      ],
      "metadata": {
        "id": "hkVYJQE8pR9F"
      }
    },
    {
      "cell_type": "code",
      "source": [
        "from sklearn.linear_model import LogisticRegression\n",
        "from obnb.model_trainer import SupervisedLearningTrainer"
      ],
      "metadata": {
        "id": "GdeNbEDz-6cx"
      },
      "execution_count": null,
      "outputs": []
    },
    {
      "cell_type": "code",
      "source": [
        "sl_mdl = LogisticRegression(penalty=\"l2\", solver=\"lbfgs\")\n",
        "sl_trainer = SupervisedLearningTrainer()"
      ],
      "metadata": {
        "id": "JXWOi3hGpfIG"
      },
      "execution_count": null,
      "outputs": []
    },
    {
      "cell_type": "code",
      "source": [
        "sl_results = sl_trainer.fit_and_eval(sl_mdl, dataset)"
      ],
      "metadata": {
        "id": "FTj2l-9ipj-4"
      },
      "execution_count": null,
      "outputs": []
    },
    {
      "cell_type": "code",
      "source": [
        "sl_df = pd.DataFrame(sl_results, index=dataset.label.label_ids)\n",
        "sl_df"
      ],
      "metadata": {
        "id": "A4OZoPsipaiw"
      },
      "execution_count": null,
      "outputs": []
    },
    {
      "cell_type": "code",
      "source": [
        "sl_df.describe()"
      ],
      "metadata": {
        "id": "lxHqDjPupcT0"
      },
      "execution_count": null,
      "outputs": []
    },
    {
      "cell_type": "markdown",
      "source": [
        "### 4.3. GNN (coming soon)"
      ],
      "metadata": {
        "id": "Qf6Z7iBfpVfZ"
      }
    }
  ]
}
